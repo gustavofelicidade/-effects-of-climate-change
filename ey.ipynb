{
 "cells": [
  {
   "cell_type": "code",
   "execution_count": 1,
   "id": "initial_id",
   "metadata": {
    "collapsed": true,
    "ExecuteTime": {
     "end_time": "2024-03-06T01:17:40.486084300Z",
     "start_time": "2024-03-06T01:17:40.273191600Z"
    }
   },
   "outputs": [],
   "source": [
    "import os\n",
    "import rasterio\n",
    "from PIL import Image\n",
    "\n",
    "import matplotlib.pyplot as plt\n",
    "import cv2\n",
    "import numpy as np\n",
    "import pandas as pd\n",
    "\n",
    "from rasterio.windows import Window\n",
    "\n",
    "\n",
    "import glob\n",
    "import pathlib\n",
    "import csv\n",
    "\n",
    "import seaborn as sns\n",
    "from pylab import rcParams\n",
    "\n"
   ]
  },
  {
   "cell_type": "markdown",
   "source": [
    "\n",
    "## Carregar Dataset Inteiro"
   ],
   "metadata": {
    "collapsed": false
   },
   "id": "832bc1027a3c62c6"
  },
  {
   "cell_type": "markdown",
   "source": [
    " TIFF (Tagged Image File Format) é um formato de arquivo amplamente utilizado para armazenar imagens, especialmente em aplicações científicas e de engenharia."
   ],
   "metadata": {
    "collapsed": false
   },
   "id": "f37ca01c1c4b968c"
  },
  {
   "cell_type": "markdown",
   "source": [
    "### O que são imagens TIFF ou TIF? \n",
    "\n",
    "TIFF (Tagged Image File Format) é um formato de imagem popular que pode armazenar várias imagens ou quadros em um único arquivo. Cada quadro pode conter uma imagem diferente ou todas podem ser idênticas. Os arquivos TIFF também podem armazenar uma variedade de dados de imagem, incluindo profundidade de cor, compactação e resolução de imagem. Quando um arquivo TIFF contém vários quadros, ele geralmente é chamado de TIFF de várias páginas ou pilha TIFF. TIFFs de várias páginas são comumente usados ​​em imagens médicas, digitalização de documentos e outras aplicações onde um único arquivo precisa armazenar várias imagens ou páginas. Os quadros podem ser usados ​​para armazenar diferentes visualizações do mesmo objeto, diferentes fatias de uma imagem 3D ou diferentes páginas de um documento digitalizado."
   ],
   "metadata": {
    "collapsed": false
   },
   "id": "826e4acb1b2f2bae"
  },
  {
   "cell_type": "code",
   "outputs": [],
   "source": [
    "src = rasterio.open(\"PRE/Pre_Event_San_Juan.tif\")"
   ],
   "metadata": {
    "collapsed": false,
    "ExecuteTime": {
     "end_time": "2024-03-06T01:17:52.205489Z",
     "start_time": "2024-03-06T01:17:52.054210100Z"
    }
   },
   "id": "c12757f1cf2a7daf",
   "execution_count": 3
  },
  {
   "cell_type": "code",
   "outputs": [
    {
     "data": {
      "text/plain": "<open DatasetReader name='PRE/Pre_Event_San_Juan.tif' mode='r'>"
     },
     "execution_count": 4,
     "metadata": {},
     "output_type": "execute_result"
    }
   ],
   "source": [
    "src"
   ],
   "metadata": {
    "collapsed": false,
    "ExecuteTime": {
     "end_time": "2024-03-06T01:17:57.231635500Z",
     "start_time": "2024-03-06T01:17:57.040716400Z"
    }
   },
   "id": "d0ffe75fd8270cf6",
   "execution_count": 4
  },
  {
   "cell_type": "code",
   "outputs": [
    {
     "data": {
      "text/plain": "'PRE/Pre_Event_San_Juan.tif'"
     },
     "execution_count": 5,
     "metadata": {},
     "output_type": "execute_result"
    }
   ],
   "source": [
    "src.name"
   ],
   "metadata": {
    "collapsed": false,
    "ExecuteTime": {
     "end_time": "2024-03-06T01:18:03.601717800Z",
     "start_time": "2024-03-06T01:18:03.498923400Z"
    }
   },
   "id": "6693c7a3828f4ae8",
   "execution_count": 5
  },
  {
   "cell_type": "code",
   "outputs": [],
   "source": [
    "# array = src.read(1)"
   ],
   "metadata": {
    "collapsed": false,
    "ExecuteTime": {
     "end_time": "2024-02-21T23:32:37.283866200Z",
     "start_time": "2024-02-21T23:32:37.119866600Z"
    }
   },
   "id": "c80036f85e608a69",
   "execution_count": 6
  },
  {
   "cell_type": "code",
   "outputs": [],
   "source": [
    "# array.shape"
   ],
   "metadata": {
    "collapsed": false,
    "ExecuteTime": {
     "end_time": "2024-02-21T23:32:43.127726900Z",
     "start_time": "2024-02-21T23:32:37.644866200Z"
    }
   },
   "id": "e31551af1382e957",
   "execution_count": 7
  },
  {
   "cell_type": "markdown",
   "source": [
    "## Split Method"
   ],
   "metadata": {
    "collapsed": false
   },
   "id": "416e0ac9e7f825b2"
  },
  {
   "cell_type": "markdown",
   "source": [
    "O fato de precisar 32GB de RAM gerou a necessidade de dividir o dataset"
   ],
   "metadata": {
    "collapsed": false
   },
   "id": "ea8c36e592705e25"
  },
  {
   "cell_type": "code",
   "outputs": [],
   "source": [
    "def split_tif(file_path, output_path, window_size):\n",
    "    with rasterio.open(file_path) as src:\n",
    "        for i in range(0, src.height, window_size[1]):\n",
    "            for j in range(0, src.width, window_size[0]):\n",
    "                window = Window(j, i, window_size[0], window_size[1])\n",
    "                transform = src.window_transform(window)\n",
    "                profile = src.profile\n",
    "                profile.update({\n",
    "                    'height': window.height,\n",
    "                    'width': window.width,\n",
    "                    'transform': transform\n",
    "                })\n",
    "                output_file = f\"{output_path}/split_{i}_{j}.tif\"\n",
    "                with rasterio.open(output_file, 'w', **profile) as dst:\n",
    "                    dst.write(src.read(window=window))\n",
    "\n"
   ],
   "metadata": {
    "collapsed": false,
    "ExecuteTime": {
     "end_time": "2024-03-06T01:20:18.292953400Z",
     "start_time": "2024-03-06T01:20:18.230757200Z"
    }
   },
   "id": "faaac777d7a8363d",
   "execution_count": 7
  },
  {
   "cell_type": "markdown",
   "source": [
    "## Split Dataset = Economizar Memória"
   ],
   "metadata": {
    "collapsed": false
   },
   "id": "53276f1deb9c0b26"
  },
  {
   "cell_type": "code",
   "outputs": [],
   "source": [
    "# # Example usage\n",
    "file_path = 'PRE/Pre_Event_San_Juan.tif'\n",
    "output_path = 'PRE_splitted/'\n",
    "window_size = (1000, 1000)  # Split into 1000x1000 tiles\n",
    "split_tif(file_path, output_path, window_size)\n"
   ],
   "metadata": {
    "collapsed": false,
    "ExecuteTime": {
     "end_time": "2024-03-06T01:23:25.459249600Z",
     "start_time": "2024-03-06T01:20:50.755146600Z"
    }
   },
   "id": "80ce8402388fda9f",
   "execution_count": 10
  },
  {
   "cell_type": "code",
   "outputs": [],
   "source": [],
   "metadata": {
    "collapsed": false
   },
   "id": "b9dc08f67ce057ff"
  },
  {
   "cell_type": "code",
   "outputs": [],
   "source": [
    "# file_path = 'PRE_splitted/split_0_1000.tif'\n",
    "file_path = 'PRE_splitted/split_0_35000.tif'\n",
    "# file_path = 'PRE_splitted/split_3000_12000.tif'\n",
    "# file_path = 'PRE_splitted/split_21000_9000.tif'\n",
    "src = rasterio.open(file_path)"
   ],
   "metadata": {
    "collapsed": false,
    "ExecuteTime": {
     "end_time": "2024-03-06T01:32:59.561159700Z",
     "start_time": "2024-03-06T01:32:59.420902200Z"
    }
   },
   "id": "581448849eea1fd",
   "execution_count": 20
  },
  {
   "cell_type": "code",
   "outputs": [
    {
     "data": {
      "text/plain": "<open DatasetReader name='PRE_splitted/split_0_35000.tif' mode='r'>"
     },
     "execution_count": 21,
     "metadata": {},
     "output_type": "execute_result"
    }
   ],
   "source": [
    "src"
   ],
   "metadata": {
    "collapsed": false,
    "ExecuteTime": {
     "end_time": "2024-03-06T01:32:59.891993600Z",
     "start_time": "2024-03-06T01:32:59.718648900Z"
    }
   },
   "id": "7dbf535d93c7ef8",
   "execution_count": 21
  },
  {
   "cell_type": "code",
   "outputs": [],
   "source": [
    "array = src.read(1)"
   ],
   "metadata": {
    "collapsed": false,
    "ExecuteTime": {
     "end_time": "2024-03-06T01:33:00.135109100Z",
     "start_time": "2024-03-06T01:32:59.974765900Z"
    }
   },
   "id": "5ee41848b2ec324e",
   "execution_count": 22
  },
  {
   "cell_type": "code",
   "outputs": [
    {
     "data": {
      "text/plain": "(1000, 1000)"
     },
     "execution_count": 23,
     "metadata": {},
     "output_type": "execute_result"
    }
   ],
   "source": [
    "array.shape"
   ],
   "metadata": {
    "collapsed": false,
    "ExecuteTime": {
     "end_time": "2024-03-06T01:33:00.176310900Z",
     "start_time": "2024-03-06T01:33:00.122779700Z"
    }
   },
   "id": "9c55f5b6b69f75db",
   "execution_count": 23
  },
  {
   "cell_type": "code",
   "outputs": [],
   "source": [],
   "metadata": {
    "collapsed": false,
    "ExecuteTime": {
     "end_time": "2024-03-06T01:33:00.531537Z",
     "start_time": "2024-03-06T01:33:00.427202800Z"
    }
   },
   "id": "569584c4de547d89",
   "execution_count": 23
  },
  {
   "cell_type": "code",
   "outputs": [
    {
     "data": {
      "text/plain": "<Figure size 640x480 with 1 Axes>",
      "image/png": "[encoded data removed]"
     },
     "metadata": {},
     "output_type": "display_data"
    }
   ],
   "source": [
    "plt.imshow(array, cmap='pink')\n",
    "plt.show()"
   ],
   "metadata": {
    "collapsed": false,
    "ExecuteTime": {
     "end_time": "2024-03-06T01:33:02.269436100Z",
     "start_time": "2024-03-06T01:33:00.802473900Z"
    }
   },
   "id": "6192a83b388636f2",
   "execution_count": 24
  },
  {
   "cell_type": "markdown",
   "source": [
    "# Extracting Metadata from TIFF"
   ],
   "metadata": {
    "collapsed": false
   },
   "id": "823998ef5ac687e5"
  },
  {
   "cell_type": "code",
   "outputs": [
    {
     "name": "stdout",
     "output_type": "stream",
     "text": [
      "{'Filename': 'split_21000_9000.tif', 'Image Size': (1000, 1000), 'Image Height': 1000, 'Image Width': 1000, 'Image Format': 'TIFF', 'Image Mode': 'RGB', 'Image is Animated': False, 'Frames in Image': 1}\n"
     ]
    }
   ],
   "source": [
    "image = Image.open('PRE_splitted/split_21000_9000.tif')\n",
    "\n",
    "   \n",
    "# extract other basic metadata\n",
    "info_dict = {\n",
    "    \"Filename\": image.filename.split('/')[1],\n",
    "    \"Image Size\": image.size,\n",
    "    \"Image Height\": image.height,\n",
    "    \"Image Width\": image.width,\n",
    "    \"Image Format\": image.format,\n",
    "    \"Image Mode\": image.mode,\n",
    "    \"Image is Animated\": getattr(image, \"is_animated\", False),\n",
    "    \"Frames in Image\": getattr(image, \"n_frames\", 1),\n",
    "}\n",
    "\n",
    "print(info_dict)\n"
   ],
   "metadata": {
    "collapsed": false,
    "ExecuteTime": {
     "end_time": "2024-03-06T01:33:09.724719800Z",
     "start_time": "2024-03-06T01:33:09.533794400Z"
    }
   },
   "id": "f4493994ce858f56",
   "execution_count": 25
  },
  {
   "cell_type": "markdown",
   "source": [
    "# Reading TIFF Images from a Directory"
   ],
   "metadata": {
    "collapsed": false
   },
   "id": "accda0524bfbf4f9"
  },
  {
   "cell_type": "code",
   "outputs": [],
   "source": [
    "# # Create an empty list to store the image metadata\n",
    "# metadata_list = []\n",
    "# \n",
    "# # Search for TIFF image files in the directory\n",
    "# for image_path in glob.glob(\"PRE_splitted/*.tif\"):\n",
    "#     # Open the image file\n",
    "#     image = Image.open(image_path)\n",
    "# \n",
    "#     # Extract basic metadata\n",
    "#     image_size = image.size\n",
    "#     image_height = image.height\n",
    "#     image_width = image.width\n",
    "#     image_format = image.format\n",
    "#     image_mode = image.mode\n",
    "#     image_is_animated = getattr(image, \"is_animated\", False)\n",
    "#     frames_in_image = getattr(image, \"n_frames\", 1)\n",
    "# \n",
    "#     # Create a dictionary to store the metadata\n",
    "#     metadata = {\n",
    "#         \"filename\": pathlib.Path(image_path).name,\n",
    "#         \"size\": image_size,\n",
    "#         \"height\": image_height,\n",
    "#         \"width\": image_width,\n",
    "#         \"format\": image_format,\n",
    "#         \"mode\": image_mode,\n",
    "#         \"is_animated\": image_is_animated,\n",
    "#         \"frames\": frames_in_image,\n",
    "#     }\n",
    "# \n",
    "#     # Add the metadata dictionary to the list\n",
    "#     metadata_list.append(metadata)\n",
    "# \n",
    "# # Write the metadata list to a CSV file\n",
    "# with open(\"metadata.csv\", \"w\", newline=\"\") as csv_file:\n",
    "#     writer = csv.DictWriter(csv_file, fieldnames=metadata_list[0].keys())\n",
    "#     writer.writeheader()\n",
    "#     writer.writerows(metadata_list)"
   ],
   "metadata": {
    "collapsed": false,
    "ExecuteTime": {
     "end_time": "2024-02-19T22:33:08.794819600Z",
     "start_time": "2024-02-19T22:32:49.108532Z"
    }
   },
   "id": "12041ca4aa6ca4e7",
   "execution_count": 50
  },
  {
   "cell_type": "code",
   "outputs": [
    {
     "name": "stdout",
     "output_type": "stream",
     "text": [
      "            filename          size  height  width format mode  is_animated  \\\n",
      "0      split_0_0.tif  (1000, 1000)    1000   1000   TIFF  RGB        False   \n",
      "1   split_0_1000.tif  (1000, 1000)    1000   1000   TIFF  RGB        False   \n",
      "2  split_0_10000.tif  (1000, 1000)    1000   1000   TIFF  RGB        False   \n",
      "3  split_0_11000.tif  (1000, 1000)    1000   1000   TIFF  RGB        False   \n",
      "4  split_0_12000.tif  (1000, 1000)    1000   1000   TIFF  RGB        False   \n",
      "\n",
      "   frames  \n",
      "0       1  \n",
      "1       1  \n",
      "2       1  \n",
      "3       1  \n",
      "4       1  \n"
     ]
    }
   ],
   "source": [
    "\n",
    "# Path to the CSV file\n",
    "csv_file_path = 'metadata.csv'\n",
    "\n",
    "# Read the CSV file into a pandas DataFrame\n",
    "df = pd.read_csv(csv_file_path)\n",
    "\n",
    "# Display the first few rows of the DataFrame to verify it's loaded correctly\n",
    "print(df.head())\n"
   ],
   "metadata": {
    "collapsed": false,
    "ExecuteTime": {
     "end_time": "2024-02-19T22:37:32.581737800Z",
     "start_time": "2024-02-19T22:37:32.435444200Z"
    }
   },
   "id": "dfdcb84914698371",
   "execution_count": 55
  },
  {
   "cell_type": "code",
   "outputs": [],
   "source": [],
   "metadata": {
    "collapsed": false
   },
   "id": "be9e835ed0a3b795"
  },
  {
   "cell_type": "code",
   "outputs": [],
   "source": [],
   "metadata": {
    "collapsed": false
   },
   "id": "3afa8bd9decbd122"
  },
  {
   "cell_type": "code",
   "outputs": [],
   "source": [],
   "metadata": {
    "collapsed": false
   },
   "id": "2a5fe7494f8e714e"
  },
  {
   "cell_type": "code",
   "outputs": [],
   "source": [],
   "metadata": {
    "collapsed": false
   },
   "id": "dd845ee563bcdb72"
  },
  {
   "cell_type": "code",
   "outputs": [],
   "source": [
    "array.shape"
   ],
   "metadata": {
    "collapsed": false
   },
   "id": "fd158a89e3ef5e3d"
  },
  {
   "cell_type": "code",
   "outputs": [],
   "source": [
    "# for i, dtype, nodataval in zip(src.indexes, src.dtypes, src.nodatavals):\n",
    "#     print(i, dtype, nodataval)"
   ],
   "metadata": {
    "collapsed": false
   },
   "id": "ef27b0ed1bf1186a"
  },
  {
   "cell_type": "code",
   "outputs": [],
   "source": [
    "# src"
   ],
   "metadata": {
    "collapsed": false
   },
   "id": "2d6978f17b9bc6b1"
  },
  {
   "cell_type": "code",
   "outputs": [],
   "source": [
    "\n",
    "# cv2_img = cv2.imread(path)"
   ],
   "metadata": {
    "collapsed": false
   },
   "id": "43ff39b58ebdd6f6"
  },
  {
   "cell_type": "code",
   "outputs": [],
   "source": [],
   "metadata": {
    "collapsed": false
   },
   "id": "6f4f4c40a3b7dfe5"
  },
  {
   "cell_type": "code",
   "outputs": [],
   "source": [],
   "metadata": {
    "collapsed": false
   },
   "id": "194cde03974fd00f"
  },
  {
   "cell_type": "code",
   "outputs": [],
   "source": [],
   "metadata": {
    "collapsed": false
   },
   "id": "7d69b905a2a87eb"
  },
  {
   "cell_type": "code",
   "outputs": [],
   "source": [],
   "metadata": {
    "collapsed": false
   },
   "id": "9c4e49629392a030"
  },
  {
   "cell_type": "code",
   "outputs": [],
   "source": [],
   "metadata": {
    "collapsed": false
   },
   "id": "1fd7f486381edd35"
  },
  {
   "cell_type": "markdown",
   "source": [
    "## Image Processing\n"
   ],
   "metadata": {
    "collapsed": false
   },
   "id": "ec5d1c37b8cc329c"
  },
  {
   "cell_type": "markdown",
   "source": [
    "OpenCV Tutorial for Beginners"
   ],
   "metadata": {
    "collapsed": false
   },
   "id": "abfc70f5d8664965"
  },
  {
   "cell_type": "code",
   "outputs": [],
   "source": [
    "%load_ext watermark\n",
    "\n",
    "%watermark -v -p cv2"
   ],
   "metadata": {
    "collapsed": false
   },
   "id": "a3c3aeb40c5ea311"
  },
  {
   "cell_type": "code",
   "outputs": [],
   "source": [
    "\n",
    "%matplotlib inline\n",
    "\n",
    "sns.set_style(\"white\")\n",
    "\n",
    "rcParams['figure.figsize'] = 12, 10"
   ],
   "metadata": {
    "collapsed": false
   },
   "id": "f72bf3ffdd8a20a2"
  },
  {
   "cell_type": "markdown",
   "source": [
    "Reading an image\n",
    "\n",
    "There are multiple flags for reading an image"
   ],
   "metadata": {
    "collapsed": false
   },
   "id": "ffdea53c3e00c1cc"
  },
  {
   "cell_type": "code",
   "outputs": [],
   "source": [
    "img = cv2.imread(filename = 'snail.jpg', flags = cv2.IMREAD_COLOR)"
   ],
   "metadata": {
    "collapsed": false
   },
   "id": "a67dc0dfec10fc5c"
  },
  {
   "cell_type": "markdown",
   "source": [
    "Width, height and color channels"
   ],
   "metadata": {
    "collapsed": false
   },
   "id": "79a63a07d8a41f6a"
  },
  {
   "cell_type": "code",
   "outputs": [],
   "source": [
    "h, w, channels = img.shape\n",
    "\n",
    "print(f'height: {h}, width: {w}, color channels: {channels}')"
   ],
   "metadata": {
    "collapsed": false
   },
   "id": "37e3aea9840b3586"
  },
  {
   "cell_type": "markdown",
   "source": [
    "Show image"
   ],
   "metadata": {
    "collapsed": false
   },
   "id": "400b295f8bff9358"
  },
  {
   "cell_type": "code",
   "outputs": [],
   "source": [
    "plt.imshow(cv2.cvtColor(src = img, code = cv2.COLOR_BGR2RGB));"
   ],
   "metadata": {
    "collapsed": false
   },
   "id": "7398f9bc138e1f31"
  },
  {
   "cell_type": "markdown",
   "source": [
    "Default color channels are BGRb"
   ],
   "metadata": {
    "collapsed": false
   },
   "id": "ad14deb38cddf277"
  },
  {
   "cell_type": "code",
   "outputs": [],
   "source": [
    "plt.imshow(img);"
   ],
   "metadata": {
    "collapsed": false
   },
   "id": "e166a8ca0577f0af"
  },
  {
   "cell_type": "markdown",
   "source": [
    "Turning into gray"
   ],
   "metadata": {
    "collapsed": false
   },
   "id": "ab8a0d9a13466f7b"
  },
  {
   "cell_type": "code",
   "outputs": [],
   "source": [
    "plt.imshow(cv2.cvtColor(src = img, code = cv2.COLOR_BGR2GRAY), cmap = 'gray');"
   ],
   "metadata": {
    "collapsed": false
   },
   "id": "fa2011ca91774a22"
  },
  {
   "cell_type": "markdown",
   "source": [
    "Saving an image"
   ],
   "metadata": {
    "collapsed": false
   },
   "id": "315414204db354fd"
  },
  {
   "cell_type": "code",
   "outputs": [],
   "source": [
    "cv2.imwrite('snail-gray.jpg', cv2.cvtColor(src = img, code = cv2.COLOR_BGR2GRAY))"
   ],
   "metadata": {
    "collapsed": false
   },
   "id": "aa942279459d1e41"
  },
  {
   "cell_type": "code",
   "outputs": [],
   "source": [
    "def show_image(image, show_axis=True):\n",
    "  plt.imshow(cv2.cvtColor(image, cv2.COLOR_BGR2RGB))\n",
    "  if not show_axis:\n",
    "    plt.axis('off');"
   ],
   "metadata": {
    "collapsed": false
   },
   "id": "a6ebc3bcd99984b3"
  },
  {
   "cell_type": "markdown",
   "source": [
    "Resizing"
   ],
   "metadata": {
    "collapsed": false
   },
   "id": "f9ac0075ea41549"
  },
  {
   "cell_type": "code",
   "outputs": [],
   "source": [
    "resize_width, resize_height = 128, 80\n",
    "\n",
    "resized = cv2.resize(\n",
    "  src = img, \n",
    "  dsize=(resize_width, resize_height), \n",
    "  interpolation=cv2.INTER_LANCZOS4\n",
    ")\n",
    "\n",
    "show_image(resized)"
   ],
   "metadata": {
    "collapsed": false
   },
   "id": "530c4c411b104c69"
  },
  {
   "cell_type": "markdown",
   "source": [
    "Cropping"
   ],
   "metadata": {
    "collapsed": false
   },
   "id": "87e210608179489e"
  },
  {
   "cell_type": "code",
   "outputs": [],
   "source": [
    "cropped = img[400:1200, 50:1550]\n",
    "\n",
    "show_image(cropped)"
   ],
   "metadata": {
    "collapsed": false
   },
   "id": "a8f22d13211d76ca"
  },
  {
   "cell_type": "markdown",
   "source": [
    "Rotation"
   ],
   "metadata": {
    "collapsed": false
   },
   "id": "9a2d9973a6bae6fe"
  },
  {
   "cell_type": "code",
   "outputs": [],
   "source": [
    "# Code by Adrian Rosebrock \n",
    "# https://www.pyimagesearch.com/2017/01/02/rotate-images-correctly-with-opencv-and-python/\n",
    "\n",
    "def rotate_bound(image, angle):\n",
    "    # grab the dimensions of the image and then determine the\n",
    "    # center\n",
    "    (h, w) = image.shape[:2]\n",
    "    (cX, cY) = (w // 2, h // 2)\n",
    "    # grab the rotation matrix (applying the negative of the\n",
    "    # angle to rotate clockwise), then grab the sine and cosine\n",
    "    # (i.e., the rotation components of the matrix)\n",
    "    M = cv2.getRotationMatrix2D((cX, cY), -angle, 1.0)\n",
    "    cos = np.abs(M[0, 0])\n",
    "    sin = np.abs(M[0, 1])\n",
    "    # compute the new bounding dimensions of the image\n",
    "    nW = int((h * sin) + (w * cos))\n",
    "    nH = int((h * cos) + (w * sin))\n",
    "    # adjust the rotation matrix to take into account translation\n",
    "    M[0, 2] += (nW / 2) - cX\n",
    "    M[1, 2] += (nH / 2) - cY\n",
    "    # perform the actual rotation and return the image\n",
    "    return cv2.warpAffine(image, M, (nW, nH))"
   ],
   "metadata": {
    "collapsed": false
   },
   "id": "c6d617da27a96cc9"
  },
  {
   "cell_type": "code",
   "outputs": [],
   "source": [
    "show_image(rotate_bound(img, 45))"
   ],
   "metadata": {
    "collapsed": false
   },
   "id": "66ff4b096a5ea272"
  },
  {
   "cell_type": "code",
   "outputs": [],
   "source": [],
   "metadata": {
    "collapsed": false
   },
   "id": "511c2ede8048c9cd"
  },
  {
   "cell_type": "code",
   "outputs": [],
   "source": [],
   "metadata": {
    "collapsed": false
   },
   "id": "4e398294e870f860"
  },
  {
   "cell_type": "code",
   "outputs": [],
   "source": [],
   "metadata": {
    "collapsed": false
   },
   "id": "f1aec48dbbf5b1dd"
  },
  {
   "cell_type": "code",
   "outputs": [],
   "source": [],
   "metadata": {
    "collapsed": false
   },
   "id": "b1ca5cb04e80913e"
  }
 ],
 "metadata": {
  "kernelspec": {
   "display_name": "Python 3",
   "language": "python",
   "name": "python3"
  },
  "language_info": {
   "codemirror_mode": {
    "name": "ipython",
    "version": 2
   },
   "file_extension": ".py",
   "mimetype": "text/x-python",
   "name": "python",
   "nbconvert_exporter": "python",
   "pygments_lexer": "ipython2",
   "version": "2.7.6"
  }
 },
 "nbformat": 4,
 "nbformat_minor": 5
}
